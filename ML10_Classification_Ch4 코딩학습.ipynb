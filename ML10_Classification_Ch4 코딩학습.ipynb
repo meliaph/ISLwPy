{
  "nbformat": 4,
  "nbformat_minor": 0,
  "metadata": {
    "colab": {
      "name": "ML10_Classification.ipynb",
      "provenance": []
    },
    "kernelspec": {
      "name": "python3",
      "display_name": "Python 3"
    }
  },
  "cells": [
    {
      "cell_type": "markdown",
      "metadata": {
        "id": "IA07a-rtayZn"
      },
      "source": [
        "## Import Smarket data"
      ]
    },
    {
      "cell_type": "code",
      "metadata": {
        "id": "LM3wdKV4WqFw",
        "outputId": "f5382b73-463a-4e93-a86e-f2028e390462",
        "colab": {
          "base_uri": "https://localhost:8080/",
          "height": 407
        }
      },
      "source": [
        "import pandas as pd\n",
        "df=pd.read_csv('Smarket.csv')\n",
        "df"
      ],
      "execution_count": null,
      "outputs": [
        {
          "output_type": "execute_result",
          "data": {
            "text/html": [
              "<div>\n",
              "<style scoped>\n",
              "    .dataframe tbody tr th:only-of-type {\n",
              "        vertical-align: middle;\n",
              "    }\n",
              "\n",
              "    .dataframe tbody tr th {\n",
              "        vertical-align: top;\n",
              "    }\n",
              "\n",
              "    .dataframe thead th {\n",
              "        text-align: right;\n",
              "    }\n",
              "</style>\n",
              "<table border=\"1\" class=\"dataframe\">\n",
              "  <thead>\n",
              "    <tr style=\"text-align: right;\">\n",
              "      <th></th>\n",
              "      <th>Year</th>\n",
              "      <th>Lag1</th>\n",
              "      <th>Lag2</th>\n",
              "      <th>Lag3</th>\n",
              "      <th>Lag4</th>\n",
              "      <th>Lag5</th>\n",
              "      <th>Volume</th>\n",
              "      <th>Today</th>\n",
              "      <th>Direction</th>\n",
              "    </tr>\n",
              "  </thead>\n",
              "  <tbody>\n",
              "    <tr>\n",
              "      <th>0</th>\n",
              "      <td>2001</td>\n",
              "      <td>0.381</td>\n",
              "      <td>-0.192</td>\n",
              "      <td>-2.624</td>\n",
              "      <td>-1.055</td>\n",
              "      <td>5.010</td>\n",
              "      <td>1.19130</td>\n",
              "      <td>0.959</td>\n",
              "      <td>Up</td>\n",
              "    </tr>\n",
              "    <tr>\n",
              "      <th>1</th>\n",
              "      <td>2001</td>\n",
              "      <td>0.959</td>\n",
              "      <td>0.381</td>\n",
              "      <td>-0.192</td>\n",
              "      <td>-2.624</td>\n",
              "      <td>-1.055</td>\n",
              "      <td>1.29650</td>\n",
              "      <td>1.032</td>\n",
              "      <td>Up</td>\n",
              "    </tr>\n",
              "    <tr>\n",
              "      <th>2</th>\n",
              "      <td>2001</td>\n",
              "      <td>1.032</td>\n",
              "      <td>0.959</td>\n",
              "      <td>0.381</td>\n",
              "      <td>-0.192</td>\n",
              "      <td>-2.624</td>\n",
              "      <td>1.41120</td>\n",
              "      <td>-0.623</td>\n",
              "      <td>Down</td>\n",
              "    </tr>\n",
              "    <tr>\n",
              "      <th>3</th>\n",
              "      <td>2001</td>\n",
              "      <td>-0.623</td>\n",
              "      <td>1.032</td>\n",
              "      <td>0.959</td>\n",
              "      <td>0.381</td>\n",
              "      <td>-0.192</td>\n",
              "      <td>1.27600</td>\n",
              "      <td>0.614</td>\n",
              "      <td>Up</td>\n",
              "    </tr>\n",
              "    <tr>\n",
              "      <th>4</th>\n",
              "      <td>2001</td>\n",
              "      <td>0.614</td>\n",
              "      <td>-0.623</td>\n",
              "      <td>1.032</td>\n",
              "      <td>0.959</td>\n",
              "      <td>0.381</td>\n",
              "      <td>1.20570</td>\n",
              "      <td>0.213</td>\n",
              "      <td>Up</td>\n",
              "    </tr>\n",
              "    <tr>\n",
              "      <th>...</th>\n",
              "      <td>...</td>\n",
              "      <td>...</td>\n",
              "      <td>...</td>\n",
              "      <td>...</td>\n",
              "      <td>...</td>\n",
              "      <td>...</td>\n",
              "      <td>...</td>\n",
              "      <td>...</td>\n",
              "      <td>...</td>\n",
              "    </tr>\n",
              "    <tr>\n",
              "      <th>1245</th>\n",
              "      <td>2005</td>\n",
              "      <td>0.422</td>\n",
              "      <td>0.252</td>\n",
              "      <td>-0.024</td>\n",
              "      <td>-0.584</td>\n",
              "      <td>-0.285</td>\n",
              "      <td>1.88850</td>\n",
              "      <td>0.043</td>\n",
              "      <td>Up</td>\n",
              "    </tr>\n",
              "    <tr>\n",
              "      <th>1246</th>\n",
              "      <td>2005</td>\n",
              "      <td>0.043</td>\n",
              "      <td>0.422</td>\n",
              "      <td>0.252</td>\n",
              "      <td>-0.024</td>\n",
              "      <td>-0.584</td>\n",
              "      <td>1.28581</td>\n",
              "      <td>-0.955</td>\n",
              "      <td>Down</td>\n",
              "    </tr>\n",
              "    <tr>\n",
              "      <th>1247</th>\n",
              "      <td>2005</td>\n",
              "      <td>-0.955</td>\n",
              "      <td>0.043</td>\n",
              "      <td>0.422</td>\n",
              "      <td>0.252</td>\n",
              "      <td>-0.024</td>\n",
              "      <td>1.54047</td>\n",
              "      <td>0.130</td>\n",
              "      <td>Up</td>\n",
              "    </tr>\n",
              "    <tr>\n",
              "      <th>1248</th>\n",
              "      <td>2005</td>\n",
              "      <td>0.130</td>\n",
              "      <td>-0.955</td>\n",
              "      <td>0.043</td>\n",
              "      <td>0.422</td>\n",
              "      <td>0.252</td>\n",
              "      <td>1.42236</td>\n",
              "      <td>-0.298</td>\n",
              "      <td>Down</td>\n",
              "    </tr>\n",
              "    <tr>\n",
              "      <th>1249</th>\n",
              "      <td>2005</td>\n",
              "      <td>-0.298</td>\n",
              "      <td>0.130</td>\n",
              "      <td>-0.955</td>\n",
              "      <td>0.043</td>\n",
              "      <td>0.422</td>\n",
              "      <td>1.38254</td>\n",
              "      <td>-0.489</td>\n",
              "      <td>Down</td>\n",
              "    </tr>\n",
              "  </tbody>\n",
              "</table>\n",
              "<p>1250 rows × 9 columns</p>\n",
              "</div>"
            ],
            "text/plain": [
              "      Year   Lag1   Lag2   Lag3   Lag4   Lag5   Volume  Today Direction\n",
              "0     2001  0.381 -0.192 -2.624 -1.055  5.010  1.19130  0.959        Up\n",
              "1     2001  0.959  0.381 -0.192 -2.624 -1.055  1.29650  1.032        Up\n",
              "2     2001  1.032  0.959  0.381 -0.192 -2.624  1.41120 -0.623      Down\n",
              "3     2001 -0.623  1.032  0.959  0.381 -0.192  1.27600  0.614        Up\n",
              "4     2001  0.614 -0.623  1.032  0.959  0.381  1.20570  0.213        Up\n",
              "...    ...    ...    ...    ...    ...    ...      ...    ...       ...\n",
              "1245  2005  0.422  0.252 -0.024 -0.584 -0.285  1.88850  0.043        Up\n",
              "1246  2005  0.043  0.422  0.252 -0.024 -0.584  1.28581 -0.955      Down\n",
              "1247  2005 -0.955  0.043  0.422  0.252 -0.024  1.54047  0.130        Up\n",
              "1248  2005  0.130 -0.955  0.043  0.422  0.252  1.42236 -0.298      Down\n",
              "1249  2005 -0.298  0.130 -0.955  0.043  0.422  1.38254 -0.489      Down\n",
              "\n",
              "[1250 rows x 9 columns]"
            ]
          },
          "metadata": {
            "tags": []
          },
          "execution_count": 1
        }
      ]
    },
    {
      "cell_type": "markdown",
      "metadata": {
        "id": "bG4r0bXGa2a1"
      },
      "source": [
        "## Check the Correlation Matrix"
      ]
    },
    {
      "cell_type": "code",
      "metadata": {
        "id": "ojDjf3BMW_UG",
        "outputId": "11c556e4-d0c9-4471-d1b7-fdec44c643aa",
        "colab": {
          "base_uri": "https://localhost:8080/",
          "height": 288
        }
      },
      "source": [
        "df.corr()"
      ],
      "execution_count": null,
      "outputs": [
        {
          "output_type": "execute_result",
          "data": {
            "text/html": [
              "<div>\n",
              "<style scoped>\n",
              "    .dataframe tbody tr th:only-of-type {\n",
              "        vertical-align: middle;\n",
              "    }\n",
              "\n",
              "    .dataframe tbody tr th {\n",
              "        vertical-align: top;\n",
              "    }\n",
              "\n",
              "    .dataframe thead th {\n",
              "        text-align: right;\n",
              "    }\n",
              "</style>\n",
              "<table border=\"1\" class=\"dataframe\">\n",
              "  <thead>\n",
              "    <tr style=\"text-align: right;\">\n",
              "      <th></th>\n",
              "      <th>Year</th>\n",
              "      <th>Lag1</th>\n",
              "      <th>Lag2</th>\n",
              "      <th>Lag3</th>\n",
              "      <th>Lag4</th>\n",
              "      <th>Lag5</th>\n",
              "      <th>Volume</th>\n",
              "      <th>Today</th>\n",
              "    </tr>\n",
              "  </thead>\n",
              "  <tbody>\n",
              "    <tr>\n",
              "      <th>Year</th>\n",
              "      <td>1.000000</td>\n",
              "      <td>0.029700</td>\n",
              "      <td>0.030596</td>\n",
              "      <td>0.033195</td>\n",
              "      <td>0.035689</td>\n",
              "      <td>0.029788</td>\n",
              "      <td>0.539006</td>\n",
              "      <td>0.030095</td>\n",
              "    </tr>\n",
              "    <tr>\n",
              "      <th>Lag1</th>\n",
              "      <td>0.029700</td>\n",
              "      <td>1.000000</td>\n",
              "      <td>-0.026294</td>\n",
              "      <td>-0.010803</td>\n",
              "      <td>-0.002986</td>\n",
              "      <td>-0.005675</td>\n",
              "      <td>0.040910</td>\n",
              "      <td>-0.026155</td>\n",
              "    </tr>\n",
              "    <tr>\n",
              "      <th>Lag2</th>\n",
              "      <td>0.030596</td>\n",
              "      <td>-0.026294</td>\n",
              "      <td>1.000000</td>\n",
              "      <td>-0.025897</td>\n",
              "      <td>-0.010854</td>\n",
              "      <td>-0.003558</td>\n",
              "      <td>-0.043383</td>\n",
              "      <td>-0.010250</td>\n",
              "    </tr>\n",
              "    <tr>\n",
              "      <th>Lag3</th>\n",
              "      <td>0.033195</td>\n",
              "      <td>-0.010803</td>\n",
              "      <td>-0.025897</td>\n",
              "      <td>1.000000</td>\n",
              "      <td>-0.024051</td>\n",
              "      <td>-0.018808</td>\n",
              "      <td>-0.041824</td>\n",
              "      <td>-0.002448</td>\n",
              "    </tr>\n",
              "    <tr>\n",
              "      <th>Lag4</th>\n",
              "      <td>0.035689</td>\n",
              "      <td>-0.002986</td>\n",
              "      <td>-0.010854</td>\n",
              "      <td>-0.024051</td>\n",
              "      <td>1.000000</td>\n",
              "      <td>-0.027084</td>\n",
              "      <td>-0.048414</td>\n",
              "      <td>-0.006900</td>\n",
              "    </tr>\n",
              "    <tr>\n",
              "      <th>Lag5</th>\n",
              "      <td>0.029788</td>\n",
              "      <td>-0.005675</td>\n",
              "      <td>-0.003558</td>\n",
              "      <td>-0.018808</td>\n",
              "      <td>-0.027084</td>\n",
              "      <td>1.000000</td>\n",
              "      <td>-0.022002</td>\n",
              "      <td>-0.034860</td>\n",
              "    </tr>\n",
              "    <tr>\n",
              "      <th>Volume</th>\n",
              "      <td>0.539006</td>\n",
              "      <td>0.040910</td>\n",
              "      <td>-0.043383</td>\n",
              "      <td>-0.041824</td>\n",
              "      <td>-0.048414</td>\n",
              "      <td>-0.022002</td>\n",
              "      <td>1.000000</td>\n",
              "      <td>0.014592</td>\n",
              "    </tr>\n",
              "    <tr>\n",
              "      <th>Today</th>\n",
              "      <td>0.030095</td>\n",
              "      <td>-0.026155</td>\n",
              "      <td>-0.010250</td>\n",
              "      <td>-0.002448</td>\n",
              "      <td>-0.006900</td>\n",
              "      <td>-0.034860</td>\n",
              "      <td>0.014592</td>\n",
              "      <td>1.000000</td>\n",
              "    </tr>\n",
              "  </tbody>\n",
              "</table>\n",
              "</div>"
            ],
            "text/plain": [
              "            Year      Lag1      Lag2  ...      Lag5    Volume     Today\n",
              "Year    1.000000  0.029700  0.030596  ...  0.029788  0.539006  0.030095\n",
              "Lag1    0.029700  1.000000 -0.026294  ... -0.005675  0.040910 -0.026155\n",
              "Lag2    0.030596 -0.026294  1.000000  ... -0.003558 -0.043383 -0.010250\n",
              "Lag3    0.033195 -0.010803 -0.025897  ... -0.018808 -0.041824 -0.002448\n",
              "Lag4    0.035689 -0.002986 -0.010854  ... -0.027084 -0.048414 -0.006900\n",
              "Lag5    0.029788 -0.005675 -0.003558  ...  1.000000 -0.022002 -0.034860\n",
              "Volume  0.539006  0.040910 -0.043383  ... -0.022002  1.000000  0.014592\n",
              "Today   0.030095 -0.026155 -0.010250  ... -0.034860  0.014592  1.000000\n",
              "\n",
              "[8 rows x 8 columns]"
            ]
          },
          "metadata": {
            "tags": []
          },
          "execution_count": 2
        }
      ]
    },
    {
      "cell_type": "markdown",
      "metadata": {
        "id": "-hVShHXva5Sg"
      },
      "source": [
        "# Encoding Target Variable"
      ]
    },
    {
      "cell_type": "code",
      "metadata": {
        "id": "chjuiFZsXF_q"
      },
      "source": [
        "y = df['Direction'].map({'Up':1,'Down':0})\n",
        "x = df[['Lag1','Lag2','Lag3','Lag4','Lag5','Volume']]"
      ],
      "execution_count": null,
      "outputs": []
    },
    {
      "cell_type": "markdown",
      "metadata": {
        "id": "Y3pHwTZFa8it"
      },
      "source": [
        "# Learning Logistic Regression Model"
      ]
    },
    {
      "cell_type": "code",
      "metadata": {
        "id": "jNhfhf3zYxdk",
        "outputId": "eed9f2f9-82ec-4cf6-fd19-bcf4d81ea03c",
        "colab": {
          "base_uri": "https://localhost:8080/"
        }
      },
      "source": [
        "from sklearn.linear_model import LogisticRegression\n",
        "reg = LogisticRegression()\n",
        "reg.fit(x,y)"
      ],
      "execution_count": null,
      "outputs": [
        {
          "output_type": "execute_result",
          "data": {
            "text/plain": [
              "LogisticRegression(C=1.0, class_weight=None, dual=False, fit_intercept=True,\n",
              "                   intercept_scaling=1, l1_ratio=None, max_iter=100,\n",
              "                   multi_class='auto', n_jobs=None, penalty='l2',\n",
              "                   random_state=None, solver='lbfgs', tol=0.0001, verbose=0,\n",
              "                   warm_start=False)"
            ]
          },
          "metadata": {
            "tags": []
          },
          "execution_count": 6
        }
      ]
    },
    {
      "cell_type": "markdown",
      "metadata": {
        "id": "5ZIcC0umbBDu"
      },
      "source": [
        "# Check the confusion matrix"
      ]
    },
    {
      "cell_type": "code",
      "metadata": {
        "id": "gB5iKxRdY0dV",
        "outputId": "4ddd0418-5fb2-4f65-a8fc-6e653b7f5bff",
        "colab": {
          "base_uri": "https://localhost:8080/"
        }
      },
      "source": [
        "from sklearn.metrics import confusion_matrix\n",
        "y_pred = reg.predict(x)\n",
        "confusion_matrix(y,y_pred)"
      ],
      "execution_count": null,
      "outputs": [
        {
          "output_type": "execute_result",
          "data": {
            "text/plain": [
              "array([[144, 458],\n",
              "       [141, 507]])"
            ]
          },
          "metadata": {
            "tags": []
          },
          "execution_count": 10
        }
      ]
    },
    {
      "cell_type": "code",
      "metadata": {
        "id": "_hFPZcrJZ46z",
        "outputId": "0f7712d3-9765-49d9-a767-25dcbafa955a",
        "colab": {
          "base_uri": "https://localhost:8080/"
        }
      },
      "source": [
        "from sklearn.metrics import accuracy_score, precision_score, recall_score\n",
        "import numpy as np\n",
        "print(accuracy_score(y,y_pred))\n",
        "print(precision_score(y,y_pred))\n",
        "print(recall_score(y,y_pred))\n",
        "np.mean(y)"
      ],
      "execution_count": null,
      "outputs": [
        {
          "output_type": "stream",
          "text": [
            "0.5208\n",
            "0.5253886010362694\n",
            "0.7824074074074074\n"
          ],
          "name": "stdout"
        },
        {
          "output_type": "execute_result",
          "data": {
            "text/plain": [
              "0.5184"
            ]
          },
          "metadata": {
            "tags": []
          },
          "execution_count": 13
        }
      ]
    },
    {
      "cell_type": "markdown",
      "metadata": {
        "id": "bACXcPHpbGJz"
      },
      "source": [
        "# Split the training and testing dataset"
      ]
    },
    {
      "cell_type": "code",
      "metadata": {
        "id": "qxRxS0ZdbFGY"
      },
      "source": [
        "features = ['Lag1','Lag2']\n",
        "train = df[df['Year']<2005]\n",
        "test = df[df['Year']==2005]\n",
        "x_train = train[features]\n",
        "y_train = train['Direction'].map({'Up':1, 'Down':0})\n",
        "x_test = test[features]\n",
        "y_test = test['Direction'].map({'Up':1, 'Down':0})"
      ],
      "execution_count": null,
      "outputs": []
    },
    {
      "cell_type": "code",
      "metadata": {
        "id": "S9wvvl26bxGF",
        "outputId": "81acb6e9-570c-4fd4-a954-3c253a6def24",
        "colab": {
          "base_uri": "https://localhost:8080/"
        }
      },
      "source": [
        "reg = LogisticRegression()\n",
        "reg.fit(x_train,y_train)"
      ],
      "execution_count": null,
      "outputs": [
        {
          "output_type": "execute_result",
          "data": {
            "text/plain": [
              "LogisticRegression(C=1.0, class_weight=None, dual=False, fit_intercept=True,\n",
              "                   intercept_scaling=1, l1_ratio=None, max_iter=100,\n",
              "                   multi_class='auto', n_jobs=None, penalty='l2',\n",
              "                   random_state=None, solver='lbfgs', tol=0.0001, verbose=0,\n",
              "                   warm_start=False)"
            ]
          },
          "metadata": {
            "tags": []
          },
          "execution_count": 36
        }
      ]
    },
    {
      "cell_type": "code",
      "metadata": {
        "id": "1n-fDFb-b3VD",
        "outputId": "bd8dfd3e-0024-42aa-effd-2aeba8715c48",
        "colab": {
          "base_uri": "https://localhost:8080/"
        }
      },
      "source": [
        "y_test_pred=reg.predict(x_test)\n",
        "confusion_matrix(y_test,y_test_pred)"
      ],
      "execution_count": null,
      "outputs": [
        {
          "output_type": "execute_result",
          "data": {
            "text/plain": [
              "array([[ 35,  76],\n",
              "       [ 35, 106]])"
            ]
          },
          "metadata": {
            "tags": []
          },
          "execution_count": 37
        }
      ]
    },
    {
      "cell_type": "code",
      "metadata": {
        "id": "qVY4Bm2pcNNL",
        "outputId": "103ab8a6-b87c-41fd-af0d-03b8a722242e",
        "colab": {
          "base_uri": "https://localhost:8080/"
        }
      },
      "source": [
        "print(precision_score(y_test,y_test_pred))\n",
        "np.mean(y_test)"
      ],
      "execution_count": null,
      "outputs": [
        {
          "output_type": "stream",
          "text": [
            "0.5824175824175825\n"
          ],
          "name": "stdout"
        },
        {
          "output_type": "execute_result",
          "data": {
            "text/plain": [
              "0.5595238095238095"
            ]
          },
          "metadata": {
            "tags": []
          },
          "execution_count": 38
        }
      ]
    },
    {
      "cell_type": "markdown",
      "metadata": {
        "id": "BVvgn20XdU5o"
      },
      "source": [
        "## Do the same thing with LDA"
      ]
    },
    {
      "cell_type": "code",
      "metadata": {
        "id": "YKmweR8KdXUv"
      },
      "source": [
        "from sklearn.discriminant_analysis import LinearDiscriminantAnalysis, QuadraticDiscriminantAnalysis\n",
        "from sklearn.neighbors import KNeighborsClassifier\n",
        "\n",
        "LDA = LinearDiscriminantAnalysis()\n",
        "QDA = QuadraticDiscriminantAnalysis()\n",
        "KNN = KNeighborsClassifier(n_neighbors=3)"
      ],
      "execution_count": null,
      "outputs": []
    },
    {
      "cell_type": "code",
      "metadata": {
        "id": "hIEiT3W2d7Vb",
        "outputId": "c9776ce9-65f2-4de4-9edc-5550769e3d99",
        "colab": {
          "base_uri": "https://localhost:8080/"
        }
      },
      "source": [
        "LDA.fit(x_train,y_train)\n",
        "y_test_pred=LDA.predict(x_test)\n",
        "print(confusion_matrix(y_test,y_test_pred))\n",
        "print(precision_score(y_test,y_test_pred))\n",
        "print(np.mean(y_test))"
      ],
      "execution_count": null,
      "outputs": [
        {
          "output_type": "stream",
          "text": [
            "[[ 35  76]\n",
            " [ 35 106]]\n",
            "0.5824175824175825\n",
            "0.5595238095238095\n"
          ],
          "name": "stdout"
        }
      ]
    },
    {
      "cell_type": "markdown",
      "metadata": {
        "id": "FRdHK8ypechs"
      },
      "source": [
        "## Do the same thing with LDA"
      ]
    },
    {
      "cell_type": "code",
      "metadata": {
        "id": "JNQ4Y-USeLIW",
        "outputId": "8c21e741-9b6c-4113-b49a-4aee18834625",
        "colab": {
          "base_uri": "https://localhost:8080/"
        }
      },
      "source": [
        "QDA.fit(x_train,y_train)\n",
        "y_test_pred=QDA.predict(x_test)\n",
        "print(confusion_matrix(y_test,y_test_pred))\n",
        "print(precision_score(y_test,y_test_pred))\n",
        "print(np.mean(y_test))"
      ],
      "execution_count": null,
      "outputs": [
        {
          "output_type": "stream",
          "text": [
            "[[ 30  81]\n",
            " [ 20 121]]\n",
            "0.599009900990099\n",
            "0.5595238095238095\n"
          ],
          "name": "stdout"
        }
      ]
    },
    {
      "cell_type": "markdown",
      "metadata": {
        "id": "OYo_dG3FefPn"
      },
      "source": [
        "## Do the same thing with KNN"
      ]
    },
    {
      "cell_type": "code",
      "metadata": {
        "id": "CXPm-b0yeefb",
        "outputId": "73cafb08-d14c-432c-f1b7-91c7d2d282e8",
        "colab": {
          "base_uri": "https://localhost:8080/"
        }
      },
      "source": [
        "KNN.fit(x_train,y_train)\n",
        "y_test_pred=KNN.predict(x_test)\n",
        "print(confusion_matrix(y_test,y_test_pred))\n",
        "print(precision_score(y_test,y_test_pred))\n",
        "print(np.mean(y_test))"
      ],
      "execution_count": null,
      "outputs": [
        {
          "output_type": "stream",
          "text": [
            "[[48 63]\n",
            " [55 86]]\n",
            "0.5771812080536913\n",
            "0.5595238095238095\n"
          ],
          "name": "stdout"
        }
      ]
    }
  ]
}